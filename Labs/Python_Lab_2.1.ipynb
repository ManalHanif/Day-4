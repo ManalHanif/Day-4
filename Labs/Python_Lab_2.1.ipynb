{
  "cells": [
    {
      "cell_type": "markdown",
      "metadata": {
        "id": "x7F-mxeubDUG"
      },
      "source": [
        "# Python_Lab_2.1\n"
      ]
    },
    {
      "cell_type": "markdown",
      "metadata": {
        "id": "14c6Hn1BbDUH"
      },
      "source": [
        "### Task 1\n",
        "1. Write a function named is_prime that takes a number as a parameter and returns True if the number is prime and False otherwise. Print whether the number 29 is prime."
      ]
    },
    {
      "cell_type": "code",
      "execution_count": 17,
      "metadata": {
        "id": "5e_MZEN0bDUI",
        "colab": {
          "base_uri": "https://localhost:8080/"
        },
        "outputId": "faa2b4a2-60c8-42e7-ca57-91a4976d7957"
      },
      "outputs": [
        {
          "output_type": "stream",
          "name": "stdout",
          "text": [
            "True\n"
          ]
        }
      ],
      "source": [
        "# is_prime is a function that takes a number and returns true if the number is prime and false otherwise\n",
        "def is_prime(number):\n",
        "    if number<=1:\n",
        "        return False\n",
        "    counter=2\n",
        "    while counter < number:\n",
        "        if number % counter ==0:\n",
        "            return False\n",
        "        counter+=1\n",
        "    return True\n",
        "\n",
        "print(is_prime(29))"
      ]
    },
    {
      "cell_type": "markdown",
      "metadata": {
        "id": "2zKG8ZcybDUI"
      },
      "source": [
        "### Task 2\n",
        "1. Create a list of 10 numbers and sort them in descending order using the sort() function.\n",
        "2. Use the len() function to print the length of the sorted list.\n",
        "3. Use the zip() function to combine three lists (names, ages, and cities) into a list of tuples.\n",
        "4. Use the range() function to create a list of even numbers from 2 to 20 and print the list."
      ]
    },
    {
      "cell_type": "code",
      "execution_count": 18,
      "metadata": {
        "id": "yyoe__M_bDUI",
        "colab": {
          "base_uri": "https://localhost:8080/"
        },
        "outputId": "a9866048-b706-42d6-9af9-312e0ce42205"
      },
      "outputs": [
        {
          "output_type": "stream",
          "name": "stdout",
          "text": [
            "Length of sorted list: 10\n",
            "[2, 4, 6, 8, 10, 12, 14, 16, 18]\n"
          ]
        }
      ],
      "source": [
        "# list of numbers\n",
        "numbers=[1,4,3,2,10,5,6,8,9,0]\n",
        "\n",
        "# sort numbers in the list in descending order\n",
        "numbers.sort(reverse=True)\n",
        "# print the length of the sorted list\n",
        "print('Length of sorted list:',len(numbers))\n",
        "\n",
        "# create list of names\n",
        "names=['manal','sara','kawther']\n",
        "# create list of ages\n",
        "age=['23','22','20']\n",
        "# create list of cities\n",
        "cities=['Riyadh','Jeddah','Taif']\n",
        "# Use the zip() function to combine three lists of names, ages, and cities into a list of tuples.\n",
        "lst=list(zip(names,age,cities))\n",
        "\n",
        "# Use the range() function to create a list of even numbers from 2 to 20.\n",
        "list_even_nums=list(range(2,20,2))\n",
        "print(list_even_nums)\n"
      ]
    },
    {
      "cell_type": "markdown",
      "metadata": {
        "id": "aStW5p7AbDUI"
      },
      "source": [
        "### Task 3\n",
        "Build a phone book program that receives the phone number, and returns the name of the owner.\n",
        "You can follow the table below:\n",
        "\n",
        "| Name     | Number     |\n",
        "| -------- | ---------- |\n",
        "| Amal     | 1111111111 |\n",
        "| Mohammed | 2222222222 |\n",
        "| Khadijah | 3333333333 |\n",
        "| Abdullah | 4444444444 |\n",
        "| Rawan    | 5555555555 |\n",
        "| Faisal   | 6666666666 |\n",
        "| Layla    | 7777777777 |\n",
        "\n",
        "- If the number exists, print the owner. Otherwise, print \"Sorry, the number is not found\".\n",
        "- If the number is less or more than 10 numbers, print \"This is invalid number\".\n",
        "- If the number contains letters or symbols, print \"This is invalid number\".\n"
      ]
    },
    {
      "cell_type": "code",
      "execution_count": 19,
      "metadata": {
        "id": "kvXmjUe-bDUJ",
        "colab": {
          "base_uri": "https://localhost:8080/"
        },
        "outputId": "be713e93-38f4-4b95-e00e-a2418fa9b206"
      },
      "outputs": [
        {
          "output_type": "stream",
          "name": "stdout",
          "text": [
            "Enter the phone number please:2222222222\n",
            "Mohammed\n"
          ]
        }
      ],
      "source": [
        "# create dictionary called phone_book put phone number as key and name as a value\n",
        "phone_book={1111111111:'Amal',2222222222:'Mohammed',3333333333:'Khadijah',4444444444:'Abdullah',5555555555:'Rawan',6666666666:'Faisal',7777777777:'Layla'}\n",
        "\n",
        "# ask user to enter phone number\n",
        "phone_number=input(\"Enter the phone number please:\")\n",
        "\n",
        "# check if number contains letters or symbols\n",
        "if not phone_number.isdigit():\n",
        "    print('This is invalid number')\n",
        "\n",
        "# check if length of numbers are less than 10\n",
        "elif len(phone_number)<10:\n",
        "    print('This is invalid number')\n",
        "\n",
        "# check if length of numbers are more than 10\n",
        "elif len(phone_number)>10:\n",
        "    print('This is invalid number')\n",
        "\n",
        "# check if phone number exist in phone_book dictionary\n",
        "elif phone_book.get(int(phone_number)) != None:\n",
        "    print(phone_book.get(int(phone_number)))\n",
        "\n",
        "else:\n",
        "    # means phone number doesnt exist in the phone_book dictionary\n",
        "    print('Sorry, the number is not found')"
      ]
    },
    {
      "cell_type": "markdown",
      "metadata": {
        "id": "exLHQ28nbDUJ"
      },
      "source": [
        "### Task 4\n",
        "- Given the following list : [5, 4, 17, 19, 30, 2, 7, 10, 45]\n",
        "    1. Use a lambda function to filter out only the odd numbers.\n",
        "    2. Print the new list of odd numbers."
      ]
    },
    {
      "cell_type": "code",
      "execution_count": 20,
      "metadata": {
        "id": "64SUsh1cbDUJ",
        "colab": {
          "base_uri": "https://localhost:8080/"
        },
        "outputId": "676498c7-e349-420a-d715-90d152d0717a"
      },
      "outputs": [
        {
          "output_type": "stream",
          "name": "stdout",
          "text": [
            "[5, 17, 19, 7, 45]\n"
          ]
        }
      ],
      "source": [
        "# list\n",
        "lst=[5, 4, 17, 19, 30, 2, 7, 10, 45]\n",
        "\n",
        "# Use a lambda function to filter out only the odd numbers. will return true of number is odd\n",
        "is_odd=lambda a:not a%2==0\n",
        "\n",
        "odd_numbers=[]\n",
        "for i in lst:\n",
        "    # check if number is odd will append into odd_number list otherwide won't\n",
        "    if is_odd(i):\n",
        "        odd_numbers.append(i)\n",
        "\n",
        "print(odd_numbers)"
      ]
    }
  ],
  "metadata": {
    "colab": {
      "provenance": []
    },
    "kernelspec": {
      "display_name": "Python 3 (ipykernel)",
      "language": "python",
      "name": "python3"
    },
    "language_info": {
      "codemirror_mode": {
        "name": "ipython",
        "version": 3
      },
      "file_extension": ".py",
      "mimetype": "text/x-python",
      "name": "python",
      "nbconvert_exporter": "python",
      "pygments_lexer": "ipython3",
      "version": "3.11.7"
    }
  },
  "nbformat": 4,
  "nbformat_minor": 0
}