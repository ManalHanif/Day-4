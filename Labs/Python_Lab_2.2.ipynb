{
 "cells": [
  {
   "cell_type": "markdown",
   "metadata": {
    "id": "E9Y5ss1ZYj3r"
   },
   "source": [
    "# Python_Lab_2.2\n"
   ]
  },
  {
   "cell_type": "markdown",
   "metadata": {
    "id": "Q1kAqc72Yj3t"
   },
   "source": [
    "### Task 1\n",
    "1. Write a program that prompts the user to enter two numbers and prints their division. Handle cases where the user enters non-numeric values or attempts to divide by zero using a try-except block.\n"
   ]
  },
  {
   "cell_type": "code",
   "execution_count": 20,
   "metadata": {
    "id": "H-xyoRTVYj3t"
   },
   "outputs": [
    {
     "name": "stdin",
     "output_type": "stream",
     "text": [
      "Enter number to be divided:  4\n",
      "Enter number to be divisor:  0\n"
     ]
    },
    {
     "name": "stdout",
     "output_type": "stream",
     "text": [
      "Error divisor is zero :(\n"
     ]
    }
   ],
   "source": [
    "# use try-except block to handle cases where the user enters non-numeric values or attempts to divide by zero \n",
    "try:\n",
    "    user_input1=float(input('Enter number to be divided: '))\n",
    "    user_input2=float(input('Enter number to be divisor: '))\n",
    "    result=user_input1/user_input2\n",
    "except ZeroDivisionError:\n",
    "    print('Error divisor is zero :(')\n",
    "except ValueError:\n",
    "    print('Error you have entered a non-numeric value :(')\n",
    "else:\n",
    "    print(user_input1,'/',user_input2,'=',result)"
   ]
  },
  {
   "cell_type": "markdown",
   "metadata": {
    "id": "CPWcDSC_Yj3u"
   },
   "source": [
    "### Task 2\n",
    "- Use \"Random\" library to do the following:\n",
    "    1. Create a list of random numbers using list comprehension.\n",
    "    2. Create a list of squares of the even numbers from random numbers using list comprehension.\n",
    "    3. Create a list of tuples (number, square) for random numbers using list comprehension."
   ]
  },
  {
   "cell_type": "code",
   "execution_count": 21,
   "metadata": {
    "id": "Yfq-i6CeYj3u"
   },
   "outputs": [
    {
     "name": "stdout",
     "output_type": "stream",
     "text": [
      "List contains random numbers: [3, 74, 5, 82, 90, 50, 47, 25, 75, 55]\n",
      "List of squares of even numbers: [5476, 6724, 8100, 2500]\n",
      "List of tuples: [(3, 9), (74, 5476), (5, 25), (82, 6724), (90, 8100), (50, 2500), (47, 2209), (25, 625), (75, 5625), (55, 3025)]\n"
     ]
    }
   ],
   "source": [
    "import random\n",
    "# Create a list of random numbers using list comprehension.\n",
    "random_numbers=[random.randint(1,100) for i in range(10)]\n",
    "print('List contains random numbers:',random_numbers)\n",
    "\n",
    "# Create a list of squares of the even numbers from random numbers using list comprehension.\n",
    "sq_evens=[i**2  for i in random_numbers if i%2==0]\n",
    "print('List of squares of even numbers:',sq_evens)\n",
    "\n",
    "# Create a list of tuples (number, square) for random numbers using list comprehension.\n",
    "list_of_tuples=[(i,i**2) for i in random_numbers]\n",
    "print('List of tuples:',list_of_tuples)"
   ]
  },
  {
   "cell_type": "markdown",
   "metadata": {
    "id": "jYdOq46NYj3u"
   },
   "source": [
    "### Task 3\n",
    "- Create a dictionary where the keys are numbers from 1 to 5 and the values are list of their squares and cubes.\n",
    "\n",
    "  - **hint**: use dictionary of list comprehension.\n",
    "\n",
    "- Create a dictionary from two lists (one with keys and one with values) using dictionary comprehension.\n",
    "\n"
   ]
  },
  {
   "cell_type": "code",
   "execution_count": 9,
   "metadata": {
    "id": "IEnsiNmCYj3u"
   },
   "outputs": [
    {
     "name": "stdout",
     "output_type": "stream",
     "text": [
      "[{1: [1, 1]}, {2: [4, 8]}, {3: [9, 27]}, {4: [16, 64]}, {5: [25, 125]}]\n",
      "dictionary: {1: 'amal', 2: 'sara', 3: 'huda', 4: 'mona'}\n"
     ]
    }
   ],
   "source": [
    "# use dictionary of list comprehension \n",
    "lst=[{i:[i**2,i**3]} for i in range(1,6)]\n",
    "print(lst)\n",
    "\n",
    "# create a dictionary from two lists (one with keys and one with values) using dictionary comprehension.\n",
    "list_keys=[1,2,3,4]\n",
    "list_values=['amal','sara','huda','mona']\n",
    "dictionary={k:values for k,values in zip(list_keys,list_values)}\n",
    "print('dictionary:',dictionary)"
   ]
  },
  {
   "cell_type": "markdown",
   "metadata": {
    "id": "6T9TCQ8SYj3v"
   },
   "source": [
    "### Task 4\n",
    "- Given a dictionary where keys are student names and values are lists of their scores, write a function that updates the scores of students who have achieved a perfect score (100) by adding a bonus of 5 points to each score. Use dictionary comprehension to achieve this.\n",
    "\n",
    "    - Implement the function add_bonus_to_perfect_scores(student_scores) that adds a bonus of 5 points to each score of students who have achieved a perfect score (100)."
   ]
  },
  {
   "cell_type": "code",
   "execution_count": 25,
   "metadata": {
    "id": "T3R_VsQpYj3v"
   },
   "outputs": [
    {
     "name": "stdout",
     "output_type": "stream",
     "text": [
      "updates by using dictionary comprehension: {'ahmad': [80, 105, 70], 'mesfer': [105, 105, 105], 'amal': [75, 98, 90], 'huda': [105, 88, 80]}\n",
      "updates by implementing the function: {'ahmad': [80, 105, 70], 'mesfer': [105, 105, 105], 'amal': [75, 98, 90], 'huda': [105, 88, 80]}\n"
     ]
    }
   ],
   "source": [
    "#  dictionary of student_grades where keys are student names and values are lists of their scores\n",
    "student_grades={'ahmad':[80,100,70],'mesfer':[100,100,100],'amal':[75,98,90],'huda':[100,88,80]}\n",
    "\n",
    "# Use dictionary comprehension that updates the scores of students who have achieved a perfect score (100) by adding a bonus of 5 points to each score\n",
    "update_scores={k:[score+5 if score==100 else score for score in v] for k,v in student_grades.items()}\n",
    "print('updates by using dictionary comprehension:',update_scores)\n",
    "\n",
    "# function add_bonus_to_perfect_scores(student_scores) that adds a bonus of 5 points to each score of students who have achieved a perfect score (100)\n",
    "def add_bonus_to_perfect_scores(student_scores):\n",
    "    for key,value in student_scores.items():\n",
    "        index=0\n",
    "        for x in value:\n",
    "            if x==100:\n",
    "                value[index]+=5\n",
    "            index+=1\n",
    " \n",
    "    return student_scores\n",
    "print('updates by implementing the function:',add_bonus_to_perfect_scores(student_grades))"
   ]
  }
 ],
 "metadata": {
  "colab": {
   "provenance": []
  },
  "kernelspec": {
   "display_name": "Python 3 (ipykernel)",
   "language": "python",
   "name": "python3"
  },
  "language_info": {
   "codemirror_mode": {
    "name": "ipython",
    "version": 3
   },
   "file_extension": ".py",
   "mimetype": "text/x-python",
   "name": "python",
   "nbconvert_exporter": "python",
   "pygments_lexer": "ipython3",
   "version": "3.11.7"
  }
 },
 "nbformat": 4,
 "nbformat_minor": 4
}
